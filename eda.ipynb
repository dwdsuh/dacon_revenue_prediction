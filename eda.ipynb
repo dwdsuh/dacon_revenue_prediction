{
 "cells": [
  {
   "cell_type": "code",
   "execution_count": 1,
   "metadata": {},
   "outputs": [],
   "source": [
    "import pandas as pd\n",
    "import numpy as np\n",
    "import os"
   ]
  },
  {
   "cell_type": "markdown",
   "metadata": {},
   "source": [
    "## Simple EDA\n"
   ]
  },
  {
   "cell_type": "code",
   "execution_count": 2,
   "metadata": {},
   "outputs": [],
   "source": [
    "data_path = os.path.join(os.getcwd(), \"jeju_data_ver1\")\n",
    "filename = \"201901-202003.csv\"\n",
    "\n",
    "df = pd.read_csv(os.path.join(data_path, filename))"
   ]
  },
  {
   "cell_type": "code",
   "execution_count": 3,
   "metadata": {},
   "outputs": [
    {
     "output_type": "execute_result",
     "data": {
      "text/plain": "   REG_YYMM CARD_SIDO_NM CARD_CCG_NM STD_CLSS_NM HOM_SIDO_NM HOM_CCG_NM  AGE  \\\n0    201901           강원         강릉시  건강보조식품 소매업          강원        강릉시  20s   \n1    201901           강원         강릉시  건강보조식품 소매업          강원        강릉시  30s   \n2    201901           강원         강릉시  건강보조식품 소매업          강원        강릉시  30s   \n3    201901           강원         강릉시  건강보조식품 소매업          강원        강릉시  40s   \n4    201901           강원         강릉시  건강보조식품 소매업          강원        강릉시  40s   \n\n   SEX_CTGO_CD  FLC  CSTMR_CNT      AMT  CNT  \n0            1    1          4   311200    4  \n1            1    2          7  1374500    8  \n2            2    2          6   818700    6  \n3            1    3          4  1717000    5  \n4            1    4          3  1047300    3  ",
      "text/html": "<div>\n<style scoped>\n    .dataframe tbody tr th:only-of-type {\n        vertical-align: middle;\n    }\n\n    .dataframe tbody tr th {\n        vertical-align: top;\n    }\n\n    .dataframe thead th {\n        text-align: right;\n    }\n</style>\n<table border=\"1\" class=\"dataframe\">\n  <thead>\n    <tr style=\"text-align: right;\">\n      <th></th>\n      <th>REG_YYMM</th>\n      <th>CARD_SIDO_NM</th>\n      <th>CARD_CCG_NM</th>\n      <th>STD_CLSS_NM</th>\n      <th>HOM_SIDO_NM</th>\n      <th>HOM_CCG_NM</th>\n      <th>AGE</th>\n      <th>SEX_CTGO_CD</th>\n      <th>FLC</th>\n      <th>CSTMR_CNT</th>\n      <th>AMT</th>\n      <th>CNT</th>\n    </tr>\n  </thead>\n  <tbody>\n    <tr>\n      <th>0</th>\n      <td>201901</td>\n      <td>강원</td>\n      <td>강릉시</td>\n      <td>건강보조식품 소매업</td>\n      <td>강원</td>\n      <td>강릉시</td>\n      <td>20s</td>\n      <td>1</td>\n      <td>1</td>\n      <td>4</td>\n      <td>311200</td>\n      <td>4</td>\n    </tr>\n    <tr>\n      <th>1</th>\n      <td>201901</td>\n      <td>강원</td>\n      <td>강릉시</td>\n      <td>건강보조식품 소매업</td>\n      <td>강원</td>\n      <td>강릉시</td>\n      <td>30s</td>\n      <td>1</td>\n      <td>2</td>\n      <td>7</td>\n      <td>1374500</td>\n      <td>8</td>\n    </tr>\n    <tr>\n      <th>2</th>\n      <td>201901</td>\n      <td>강원</td>\n      <td>강릉시</td>\n      <td>건강보조식품 소매업</td>\n      <td>강원</td>\n      <td>강릉시</td>\n      <td>30s</td>\n      <td>2</td>\n      <td>2</td>\n      <td>6</td>\n      <td>818700</td>\n      <td>6</td>\n    </tr>\n    <tr>\n      <th>3</th>\n      <td>201901</td>\n      <td>강원</td>\n      <td>강릉시</td>\n      <td>건강보조식품 소매업</td>\n      <td>강원</td>\n      <td>강릉시</td>\n      <td>40s</td>\n      <td>1</td>\n      <td>3</td>\n      <td>4</td>\n      <td>1717000</td>\n      <td>5</td>\n    </tr>\n    <tr>\n      <th>4</th>\n      <td>201901</td>\n      <td>강원</td>\n      <td>강릉시</td>\n      <td>건강보조식품 소매업</td>\n      <td>강원</td>\n      <td>강릉시</td>\n      <td>40s</td>\n      <td>1</td>\n      <td>4</td>\n      <td>3</td>\n      <td>1047300</td>\n      <td>3</td>\n    </tr>\n  </tbody>\n</table>\n</div>"
     },
     "metadata": {},
     "execution_count": 3
    }
   ],
   "source": [
    "df.head()"
   ]
  },
  {
   "cell_type": "code",
   "execution_count": 7,
   "metadata": {},
   "outputs": [],
   "source": [
    "date_dict = df[\"REG_YYMM\"].unique()\n",
    "sido_dict = df[\"CARD_SIDO_NM\"].unique()\n",
    "ccg_dict = df[\"CARD_CCG_NM\"].unique()\n",
    "store_dict = df[\"STD_CLSS_NM\"].unique()"
   ]
  },
  {
   "cell_type": "code",
   "execution_count": 39,
   "metadata": {
    "tags": []
   },
   "outputs": [
    {
     "output_type": "execute_result",
     "data": {
      "text/plain": "{'기타음식료품위주종합소매업',\n '대행업',\n '마사지업',\n '면세점',\n '서비스업',\n '소매업',\n '슈퍼마켓',\n '여관업',\n '여행사업',\n '욕탕업',\n '운송업',\n '운영업',\n '음료점업',\n '음식점업',\n '임대업',\n '주점업',\n '체인화 편의점',\n '충전업',\n '호텔업'}"
     },
     "metadata": {},
     "execution_count": 39
    }
   ],
   "source": [
    "upjong = set()\n",
    "for i in store_dict:\n",
    "    if i.endswith(\"업\"):\n",
    "        upjong.add(i.split()[-1])\n",
    "    else:\n",
    "        upjong.add(i)\n",
    "upjong"
   ]
  },
  {
   "cell_type": "markdown",
   "metadata": {},
   "source": [
    "## 전처리 Scheme\n",
    "1. 주소의 경우 kakao maps api를 통해 위도, 경도로 바꾼다.\n",
    "2. 업종의 경우 factorize 시킨 one-hot으로 간다?"
   ]
  },
  {
   "cell_type": "code",
   "execution_count": 16,
   "metadata": {},
   "outputs": [],
   "source": [
    "kdapi_token_path = \"/Users/kakao/kakao_project/credentials/KakaoAK\"\n",
    "with open(kdapi_token_path, \"r\", encoding = \"utf-8\") as f:\n",
    "    AK = f.readline().strip()"
   ]
  },
  {
   "cell_type": "code",
   "execution_count": 25,
   "metadata": {},
   "outputs": [],
   "source": [
    "import requests\n",
    "address = \"제주시 아라동\"\n",
    "response = requests.get(\n",
    "    url = \"https://dapi.kakao.com/v2/local/search/address.json\",\n",
    "    params = {\"query\": address},\n",
    "    headers = {\"Authorization\": \"KakaoAK {}\".format(AK)})\n"
   ]
  },
  {
   "cell_type": "code",
   "execution_count": 28,
   "metadata": {},
   "outputs": [
    {
     "output_type": "execute_result",
     "data": {
      "text/plain": "'33.4763364525424'"
     },
     "metadata": {},
     "execution_count": 28
    }
   ],
   "source": [
    "response.json()[\"documents\"][0][\"y\"]"
   ]
  },
  {
   "cell_type": "code",
   "execution_count": null,
   "metadata": {},
   "outputs": [],
   "source": []
  }
 ],
 "metadata": {
  "kernelspec": {
   "display_name": "Python 3",
   "language": "python",
   "name": "python3"
  },
  "language_info": {
   "codemirror_mode": {
    "name": "ipython",
    "version": 3
   },
   "file_extension": ".py",
   "mimetype": "text/x-python",
   "name": "python",
   "nbconvert_exporter": "python",
   "pygments_lexer": "ipython3",
   "version": "3.7.6-final"
  }
 },
 "nbformat": 4,
 "nbformat_minor": 4
}